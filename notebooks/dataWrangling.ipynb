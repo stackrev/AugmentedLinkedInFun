{
 "cells": [
  {
   "attachments": {},
   "cell_type": "markdown",
   "metadata": {},
   "source": [
    "# LinkedIn Profile Analysis\n",
    "\n",
    "Scraped LinkedIn connections, and generated random data through ChartGPT using:\n",
    "- generate a CSV that I can copy, with tab as a delimiter, of with 35 random and fake tech LinkedIn Descriptions and Titles.\n",
    "- generate a CSV that I can copy, with tab as a delimiter, of with 35 random and fake LinkedIn Descriptions and Titles, of honest founders who promote crypto or web3.\n",
    "- generate a CSV that I can copy, with tab as a delimiter, of with 35 random and fake LinkedIn Descriptions and Titles, of founders  owners who made a company but don't have positive revenue. Add a touch of silicon valley bro-culture.\n",
    "- generate a CSV that I can copy, with tab as a delimiter, of with 35 random and fake LinkedIn Descriptions and Titles, of tech recruiters who have empathy, skill, and have scouted candidates not spammed them.\n",
    "- generate a CSV that I can copy, with tab as a delimiter, of with 35 random and fake LinkedIn Descriptions and Titles, of business gurus who want to make people rich."
   ]
  },
  {
   "cell_type": "code",
   "execution_count": 1,
   "metadata": {},
   "outputs": [],
   "source": [
    "import numpy as np\n",
    "import pandas as pd\n",
    "\n",
    "import names"
   ]
  },
  {
   "attachments": {},
   "cell_type": "markdown",
   "metadata": {},
   "source": [
    "Since we want anonymous data, drop names from the scraped data or insert a the name column with random names."
   ]
  },
  {
   "cell_type": "code",
   "execution_count": 3,
   "metadata": {},
   "outputs": [
    {
     "name": "stdout",
     "output_type": "stream",
     "text": [
      "Removing all of this: ['hashtag', 'end end', 'endorsed by', 'endorsed', 'liked by']\n"
     ]
    },
    {
     "data": {
      "application/vnd.jupyter.widget-view+json": {
       "model_id": "a9222c55754c4f20b1fed1fe80939205",
       "version_major": 2,
       "version_minor": 0
      },
      "text/plain": [
       "  0%|          | 0/1497 [00:00<?, ?it/s]"
      ]
     },
     "metadata": {},
     "output_type": "display_data"
    },
    {
     "name": "stdout",
     "output_type": "stream",
     "text": [
      "\n",
      "TqdmDeprecationWarning: Except func, normal arguments are intentionally not supported by `(DataFrame|Series|GroupBy).progress_apply`. Use keyword arguments instead.\n"
     ]
    },
    {
     "data": {
      "application/vnd.jupyter.widget-view+json": {
       "model_id": "57bcec68a41141cf9542bcfbaeb0a52d",
       "version_major": 2,
       "version_minor": 0
      },
      "text/plain": [
       "  0%|          | 0/1497 [00:00<?, ?it/s]"
      ]
     },
     "metadata": {},
     "output_type": "display_data"
    },
    {
     "name": "stdout",
     "output_type": "stream",
     "text": [
      "\n",
      "TqdmDeprecationWarning: Except func, normal arguments are intentionally not supported by `(DataFrame|Series|GroupBy).progress_apply`. Use keyword arguments instead.\n"
     ]
    },
    {
     "data": {
      "application/vnd.jupyter.widget-view+json": {
       "model_id": "9907981d16ba4faca181643f5780ac84",
       "version_major": 2,
       "version_minor": 0
      },
      "text/plain": [
       "  0%|          | 0/1497 [00:00<?, ?it/s]"
      ]
     },
     "metadata": {},
     "output_type": "display_data"
    },
    {
     "name": "stdout",
     "output_type": "stream",
     "text": [
      "\n",
      "TqdmDeprecationWarning: Except func, normal arguments are intentionally not supported by `(DataFrame|Series|GroupBy).progress_apply`. Use keyword arguments instead.\n"
     ]
    },
    {
     "data": {
      "text/html": [
       "<div>\n",
       "<style scoped>\n",
       "    .dataframe tbody tr th:only-of-type {\n",
       "        vertical-align: middle;\n",
       "    }\n",
       "\n",
       "    .dataframe tbody tr th {\n",
       "        vertical-align: top;\n",
       "    }\n",
       "\n",
       "    .dataframe thead th {\n",
       "        text-align: right;\n",
       "    }\n",
       "</style>\n",
       "<table border=\"1\" class=\"dataframe\">\n",
       "  <thead>\n",
       "    <tr style=\"text-align: right;\">\n",
       "      <th></th>\n",
       "      <th>user</th>\n",
       "      <th>descriptions</th>\n",
       "      <th>titles</th>\n",
       "      <th>class</th>\n",
       "    </tr>\n",
       "  </thead>\n",
       "  <tbody>\n",
       "    <tr>\n",
       "      <th>13052</th>\n",
       "      <td>Jack Cholico</td>\n",
       "      <td>innovative web developer with expertise in dev...</td>\n",
       "      <td>mobile app developer</td>\n",
       "      <td>grover</td>\n",
       "    </tr>\n",
       "    <tr>\n",
       "      <th>13112</th>\n",
       "      <td>Felix Johnson</td>\n",
       "      <td>my team is hiring stream is looking for an and...</td>\n",
       "      <td>research analyst at silverlight expert network</td>\n",
       "      <td>grover</td>\n",
       "    </tr>\n",
       "    <tr>\n",
       "      <th>25133</th>\n",
       "      <td>John Jones</td>\n",
       "      <td>blockchain developer with experience in buildi...</td>\n",
       "      <td>network engineer</td>\n",
       "      <td>grover</td>\n",
       "    </tr>\n",
       "  </tbody>\n",
       "</table>\n",
       "</div>"
      ],
      "text/plain": [
       "                user                                       descriptions   \n",
       "13052   Jack Cholico  innovative web developer with expertise in dev...  \\\n",
       "13112  Felix Johnson  my team is hiring stream is looking for an and...   \n",
       "25133     John Jones  blockchain developer with experience in buildi...   \n",
       "\n",
       "                                               titles   class  \n",
       "13052                            mobile app developer  grover  \n",
       "13112  research analyst at silverlight expert network  grover  \n",
       "25133                                network engineer  grover  "
      ]
     },
     "execution_count": 3,
     "metadata": {},
     "output_type": "execute_result"
    }
   ],
   "source": [
    "import string\n",
    "import re\n",
    "from tqdm.notebook import tqdm\n",
    "tqdm.pandas()\n",
    "\n",
    "data = pd.read_csv(\"./data/anonLinkedInProfiles.csv\", delimiter=',')\n",
    "data = data.sample(1500)\n",
    "if 'user2' in data:\n",
    "    data = data.drop('user2')\n",
    "if 'user' in data:\n",
    "    data = data.drop_duplicates(subset='user')\n",
    "else:\n",
    "    data.insert(0, 'user', \"N/A\")\n",
    "    \n",
    "\n",
    "data['user'] = data['user'].transform(lambda x: names.get_full_name())\n",
    "data = data.fillna(\"\")\n",
    "\n",
    "# Clean all\n",
    "TO_REMOVE = [\"hashtag\", \"end end\", \"endorsed by\", \"endorsed\", \"liked by\"]\n",
    "\n",
    "print(f'Removing all of this: {TO_REMOVE}')\n",
    "\n",
    "def _clean_text(txt):\n",
    "    txt = str.lower(txt.strip())\n",
    "    return txt\n",
    "\n",
    "def _clean_class(txt):\n",
    "    txt = str.lower(txt.strip())\n",
    "    if (txt == 'c'):\n",
    "        return 'grouch'\n",
    "    if (txt == 'f'):\n",
    "        return 'count'\n",
    "    if (txt == 'w'):\n",
    "        return 'bigbird'\n",
    "    if (txt == 'o'):\n",
    "        return 'grover'\n",
    "    if (txt == 's'):\n",
    "        return 'erniebert'\n",
    "    return pd.NA\n",
    "\n",
    "data['titles'] = data['titles'].progress_apply(lambda txt: _clean_text(txt), 'titles')\n",
    "data['descriptions'] = data['descriptions'].progress_apply(lambda txt: _clean_text(txt), 'descriptions')\n",
    "data['class'] = data['class'].progress_apply(lambda txt: _clean_class(txt), 'class')\n",
    "data.head(3)"
   ]
  },
  {
   "cell_type": "code",
   "execution_count": 4,
   "metadata": {},
   "outputs": [],
   "source": [
    "data.to_csv('./cleanSample.csv',index=False)"
   ]
  }
 ],
 "metadata": {
  "kernelspec": {
   "display_name": "tutorials",
   "language": "python",
   "name": "python3"
  },
  "language_info": {
   "codemirror_mode": {
    "name": "ipython",
    "version": 3
   },
   "file_extension": ".py",
   "mimetype": "text/x-python",
   "name": "python",
   "nbconvert_exporter": "python",
   "pygments_lexer": "ipython3",
   "version": "3.9.16"
  },
  "orig_nbformat": 4
 },
 "nbformat": 4,
 "nbformat_minor": 2
}
