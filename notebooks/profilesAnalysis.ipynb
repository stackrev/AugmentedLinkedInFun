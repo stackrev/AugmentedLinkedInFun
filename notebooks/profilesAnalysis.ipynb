{
 "cells": [
  {
   "attachments": {},
   "cell_type": "markdown",
   "metadata": {},
   "source": [
    "# LinkedIn Profile Analysis\n",
    "\n",
    "We will build a supervised pipeline to classify a profile depending on a subset of tagged data.\n",
    "Beyond the standard word cleanupfor an NLP pipeline, we should:\n",
    "- remove hashtag, both word and symbol.\n",
    "- remove email addresses.\n",
    "- Symbols."
   ]
  },
  {
   "cell_type": "code",
   "execution_count": 3,
   "metadata": {},
   "outputs": [],
   "source": [
    "from tqdm.notebook import tqdm\n",
    "import pandas as pd\n",
    "import matplotlib.pyplot as plt\n",
    "import numpy as np\n",
    "\n",
    "tqdm.pandas()"
   ]
  },
  {
   "cell_type": "code",
   "execution_count": 4,
   "metadata": {},
   "outputs": [
    {
     "data": {
      "application/vnd.jupyter.widget-view+json": {
       "model_id": "9579bd6f6742462ea0fd72e1b8c819d6",
       "version_major": 2,
       "version_minor": 0
      },
      "text/plain": [
       "Loadin ./data/anonLinkedInProfiles.csv: 0it [00:00, ?it/s]"
      ]
     },
     "metadata": {},
     "output_type": "display_data"
    },
    {
     "name": "stdout",
     "output_type": "stream",
     "text": [
      "Shape: (34993, 4), does it have NAs:\n",
      "user            False\n",
      "descriptions     True\n",
      "titles           True\n",
      "class           False\n",
      "dtype: bool\n",
      "Post fill NAs:\n",
      "user            False\n",
      "descriptions    False\n",
      "titles          False\n",
      "class           False\n",
      "dtype: bool\n",
      "Resampled Shape: (800, 5)\n"
     ]
    },
    {
     "data": {
      "text/html": [
       "<div>\n",
       "<style scoped>\n",
       "    .dataframe tbody tr th:only-of-type {\n",
       "        vertical-align: middle;\n",
       "    }\n",
       "\n",
       "    .dataframe tbody tr th {\n",
       "        vertical-align: top;\n",
       "    }\n",
       "\n",
       "    .dataframe thead th {\n",
       "        text-align: right;\n",
       "    }\n",
       "</style>\n",
       "<table border=\"1\" class=\"dataframe\">\n",
       "  <thead>\n",
       "    <tr style=\"text-align: right;\">\n",
       "      <th></th>\n",
       "      <th>index</th>\n",
       "      <th>user</th>\n",
       "      <th>descriptions</th>\n",
       "      <th>titles</th>\n",
       "      <th>class</th>\n",
       "    </tr>\n",
       "  </thead>\n",
       "  <tbody>\n",
       "    <tr>\n",
       "      <th>0</th>\n",
       "      <td>10683</td>\n",
       "      <td>Bernice Ibarra</td>\n",
       "      <td>title</td>\n",
       "      <td>break the rules of conventional wealthbuilding...</td>\n",
       "      <td>f</td>\n",
       "    </tr>\n",
       "    <tr>\n",
       "      <th>1</th>\n",
       "      <td>24139</td>\n",
       "      <td>Dan Manuel</td>\n",
       "      <td>i had an interesting discussion with thibault ...</td>\n",
       "      <td>human resources generalist at fimbank plc</td>\n",
       "      <td>s</td>\n",
       "    </tr>\n",
       "    <tr>\n",
       "      <th>2</th>\n",
       "      <td>1202</td>\n",
       "      <td>Gabriel Shields</td>\n",
       "      <td>chief of hustle</td>\n",
       "      <td>i'm a financial wizard who's always looking fo...</td>\n",
       "      <td>w</td>\n",
       "    </tr>\n",
       "    <tr>\n",
       "      <th>3</th>\n",
       "      <td>34228</td>\n",
       "      <td>Chandra Coakley</td>\n",
       "      <td>blockchain creator</td>\n",
       "      <td>pioneering the adoption of cryptocurrencies an...</td>\n",
       "      <td>c</td>\n",
       "    </tr>\n",
       "    <tr>\n",
       "      <th>4</th>\n",
       "      <td>10219</td>\n",
       "      <td>Stephanie Hager</td>\n",
       "      <td>wealth wizardry</td>\n",
       "      <td>succeed in business and build your wealth with...</td>\n",
       "      <td>f</td>\n",
       "    </tr>\n",
       "  </tbody>\n",
       "</table>\n",
       "</div>"
      ],
      "text/plain": [
       "   index             user                                       descriptions   \n",
       "0  10683   Bernice Ibarra                                              title  \\\n",
       "1  24139       Dan Manuel  i had an interesting discussion with thibault ...   \n",
       "2   1202  Gabriel Shields                                    chief of hustle   \n",
       "3  34228  Chandra Coakley                                 blockchain creator   \n",
       "4  10219  Stephanie Hager                                    wealth wizardry   \n",
       "\n",
       "                                              titles class  \n",
       "0  break the rules of conventional wealthbuilding...     f  \n",
       "1          human resources generalist at fimbank plc     s  \n",
       "2  i'm a financial wizard who's always looking fo...     w  \n",
       "3  pioneering the adoption of cryptocurrencies an...     c  \n",
       "4  succeed in business and build your wealth with...     f  "
      ]
     },
     "execution_count": 4,
     "metadata": {},
     "output_type": "execute_result"
    }
   ],
   "source": [
    "DATA = \"./data/anonLinkedInProfiles.csv\"\n",
    "data = pd.concat([chunk for chunk in tqdm(pd.read_csv(DATA, chunksize=1000), desc=f'Loadin {DATA}')])\n",
    "print(f'Shape: {data.shape}, does it have NAs:\\n{data.isna().any()}')\n",
    "\n",
    "data = data.dropna()\n",
    "data = data.drop(data[(data['descriptions'] == '') | (data['titles'] == '')].index)\n",
    "\n",
    "print(f'Post fill NAs:\\n{data.isna().any()}')\n",
    "data['class'] = data['class'].apply(lambda x: x.lower())\n",
    "\n",
    "# For this exercise, keep it small.\n",
    "data = data.sample(800)\n",
    "data = data.reset_index() # Reset index, since we will do operations on it!\n",
    "print(f'Resampled Shape: {data.shape}')\n",
    "\n",
    "data.head()"
   ]
  },
  {
   "cell_type": "code",
   "execution_count": 5,
   "metadata": {},
   "outputs": [
    {
     "name": "stderr",
     "output_type": "stream",
     "text": [
      "[nltk_data] Downloading collection 'all'\n",
      "[nltk_data]    | \n",
      "[nltk_data]    | Downloading package abc to\n",
      "[nltk_data]    |     /Users/adarmani/nltk_data...\n",
      "[nltk_data]    |   Package abc is already up-to-date!\n",
      "[nltk_data]    | Downloading package alpino to\n",
      "[nltk_data]    |     /Users/adarmani/nltk_data...\n",
      "[nltk_data]    |   Package alpino is already up-to-date!\n",
      "[nltk_data]    | Downloading package averaged_perceptron_tagger to\n",
      "[nltk_data]    |     /Users/adarmani/nltk_data...\n",
      "[nltk_data]    |   Package averaged_perceptron_tagger is already up-\n",
      "[nltk_data]    |       to-date!\n",
      "[nltk_data]    | Downloading package averaged_perceptron_tagger_ru to\n",
      "[nltk_data]    |     /Users/adarmani/nltk_data...\n",
      "[nltk_data]    |   Package averaged_perceptron_tagger_ru is already\n",
      "[nltk_data]    |       up-to-date!\n",
      "[nltk_data]    | Downloading package basque_grammars to\n",
      "[nltk_data]    |     /Users/adarmani/nltk_data...\n",
      "[nltk_data]    |   Package basque_grammars is already up-to-date!\n",
      "[nltk_data]    | Downloading package bcp47 to\n",
      "[nltk_data]    |     /Users/adarmani/nltk_data...\n",
      "[nltk_data]    |   Package bcp47 is already up-to-date!\n",
      "[nltk_data]    | Downloading package biocreative_ppi to\n",
      "[nltk_data]    |     /Users/adarmani/nltk_data...\n",
      "[nltk_data]    |   Package biocreative_ppi is already up-to-date!\n",
      "[nltk_data]    | Downloading package bllip_wsj_no_aux to\n",
      "[nltk_data]    |     /Users/adarmani/nltk_data...\n",
      "[nltk_data]    |   Package bllip_wsj_no_aux is already up-to-date!\n",
      "[nltk_data]    | Downloading package book_grammars to\n",
      "[nltk_data]    |     /Users/adarmani/nltk_data...\n",
      "[nltk_data]    |   Package book_grammars is already up-to-date!\n",
      "[nltk_data]    | Downloading package brown to\n",
      "[nltk_data]    |     /Users/adarmani/nltk_data...\n",
      "[nltk_data]    |   Package brown is already up-to-date!\n",
      "[nltk_data]    | Downloading package brown_tei to\n",
      "[nltk_data]    |     /Users/adarmani/nltk_data...\n",
      "[nltk_data]    |   Package brown_tei is already up-to-date!\n",
      "[nltk_data]    | Downloading package cess_cat to\n",
      "[nltk_data]    |     /Users/adarmani/nltk_data...\n",
      "[nltk_data]    |   Package cess_cat is already up-to-date!\n",
      "[nltk_data]    | Downloading package cess_esp to\n",
      "[nltk_data]    |     /Users/adarmani/nltk_data...\n",
      "[nltk_data]    |   Package cess_esp is already up-to-date!\n",
      "[nltk_data]    | Downloading package chat80 to\n",
      "[nltk_data]    |     /Users/adarmani/nltk_data...\n",
      "[nltk_data]    |   Package chat80 is already up-to-date!\n",
      "[nltk_data]    | Downloading package city_database to\n",
      "[nltk_data]    |     /Users/adarmani/nltk_data...\n",
      "[nltk_data]    |   Package city_database is already up-to-date!\n",
      "[nltk_data]    | Downloading package cmudict to\n",
      "[nltk_data]    |     /Users/adarmani/nltk_data...\n",
      "[nltk_data]    |   Package cmudict is already up-to-date!\n",
      "[nltk_data]    | Downloading package comparative_sentences to\n",
      "[nltk_data]    |     /Users/adarmani/nltk_data...\n",
      "[nltk_data]    |   Package comparative_sentences is already up-to-\n",
      "[nltk_data]    |       date!\n",
      "[nltk_data]    | Downloading package comtrans to\n",
      "[nltk_data]    |     /Users/adarmani/nltk_data...\n",
      "[nltk_data]    |   Package comtrans is already up-to-date!\n",
      "[nltk_data]    | Downloading package conll2000 to\n",
      "[nltk_data]    |     /Users/adarmani/nltk_data...\n",
      "[nltk_data]    |   Package conll2000 is already up-to-date!\n",
      "[nltk_data]    | Downloading package conll2002 to\n",
      "[nltk_data]    |     /Users/adarmani/nltk_data...\n",
      "[nltk_data]    |   Package conll2002 is already up-to-date!\n",
      "[nltk_data]    | Downloading package conll2007 to\n",
      "[nltk_data]    |     /Users/adarmani/nltk_data...\n",
      "[nltk_data]    |   Package conll2007 is already up-to-date!\n",
      "[nltk_data]    | Downloading package crubadan to\n",
      "[nltk_data]    |     /Users/adarmani/nltk_data...\n",
      "[nltk_data]    |   Package crubadan is already up-to-date!\n",
      "[nltk_data]    | Downloading package dependency_treebank to\n",
      "[nltk_data]    |     /Users/adarmani/nltk_data...\n",
      "[nltk_data]    |   Package dependency_treebank is already up-to-date!\n",
      "[nltk_data]    | Downloading package dolch to\n",
      "[nltk_data]    |     /Users/adarmani/nltk_data...\n",
      "[nltk_data]    |   Package dolch is already up-to-date!\n",
      "[nltk_data]    | Downloading package europarl_raw to\n",
      "[nltk_data]    |     /Users/adarmani/nltk_data...\n",
      "[nltk_data]    |   Package europarl_raw is already up-to-date!\n",
      "[nltk_data]    | Downloading package extended_omw to\n",
      "[nltk_data]    |     /Users/adarmani/nltk_data...\n",
      "[nltk_data]    |   Package extended_omw is already up-to-date!\n",
      "[nltk_data]    | Downloading package floresta to\n",
      "[nltk_data]    |     /Users/adarmani/nltk_data...\n",
      "[nltk_data]    |   Package floresta is already up-to-date!\n",
      "[nltk_data]    | Downloading package framenet_v15 to\n",
      "[nltk_data]    |     /Users/adarmani/nltk_data...\n",
      "[nltk_data]    |   Package framenet_v15 is already up-to-date!\n",
      "[nltk_data]    | Downloading package framenet_v17 to\n",
      "[nltk_data]    |     /Users/adarmani/nltk_data...\n",
      "[nltk_data]    |   Package framenet_v17 is already up-to-date!\n",
      "[nltk_data]    | Downloading package gazetteers to\n",
      "[nltk_data]    |     /Users/adarmani/nltk_data...\n",
      "[nltk_data]    |   Package gazetteers is already up-to-date!\n",
      "[nltk_data]    | Downloading package genesis to\n",
      "[nltk_data]    |     /Users/adarmani/nltk_data...\n",
      "[nltk_data]    |   Package genesis is already up-to-date!\n",
      "[nltk_data]    | Downloading package gutenberg to\n",
      "[nltk_data]    |     /Users/adarmani/nltk_data...\n",
      "[nltk_data]    |   Package gutenberg is already up-to-date!\n",
      "[nltk_data]    | Downloading package ieer to\n",
      "[nltk_data]    |     /Users/adarmani/nltk_data...\n",
      "[nltk_data]    |   Package ieer is already up-to-date!\n",
      "[nltk_data]    | Downloading package inaugural to\n",
      "[nltk_data]    |     /Users/adarmani/nltk_data...\n",
      "[nltk_data]    |   Package inaugural is already up-to-date!\n",
      "[nltk_data]    | Downloading package indian to\n",
      "[nltk_data]    |     /Users/adarmani/nltk_data...\n",
      "[nltk_data]    |   Package indian is already up-to-date!\n",
      "[nltk_data]    | Downloading package jeita to\n",
      "[nltk_data]    |     /Users/adarmani/nltk_data...\n",
      "[nltk_data]    |   Package jeita is already up-to-date!\n",
      "[nltk_data]    | Downloading package kimmo to\n",
      "[nltk_data]    |     /Users/adarmani/nltk_data...\n",
      "[nltk_data]    |   Package kimmo is already up-to-date!\n",
      "[nltk_data]    | Downloading package knbc to\n",
      "[nltk_data]    |     /Users/adarmani/nltk_data...\n",
      "[nltk_data]    |   Package knbc is already up-to-date!\n",
      "[nltk_data]    | Downloading package large_grammars to\n",
      "[nltk_data]    |     /Users/adarmani/nltk_data...\n",
      "[nltk_data]    |   Package large_grammars is already up-to-date!\n",
      "[nltk_data]    | Downloading package lin_thesaurus to\n",
      "[nltk_data]    |     /Users/adarmani/nltk_data...\n",
      "[nltk_data]    |   Package lin_thesaurus is already up-to-date!\n",
      "[nltk_data]    | Downloading package mac_morpho to\n",
      "[nltk_data]    |     /Users/adarmani/nltk_data...\n",
      "[nltk_data]    |   Package mac_morpho is already up-to-date!\n",
      "[nltk_data]    | Downloading package machado to\n",
      "[nltk_data]    |     /Users/adarmani/nltk_data...\n",
      "[nltk_data]    |   Package machado is already up-to-date!\n",
      "[nltk_data]    | Downloading package masc_tagged to\n",
      "[nltk_data]    |     /Users/adarmani/nltk_data...\n",
      "[nltk_data]    |   Package masc_tagged is already up-to-date!\n",
      "[nltk_data]    | Downloading package maxent_ne_chunker to\n",
      "[nltk_data]    |     /Users/adarmani/nltk_data...\n",
      "[nltk_data]    |   Package maxent_ne_chunker is already up-to-date!\n",
      "[nltk_data]    | Downloading package maxent_treebank_pos_tagger to\n",
      "[nltk_data]    |     /Users/adarmani/nltk_data...\n",
      "[nltk_data]    |   Package maxent_treebank_pos_tagger is already up-\n",
      "[nltk_data]    |       to-date!\n",
      "[nltk_data]    | Downloading package moses_sample to\n",
      "[nltk_data]    |     /Users/adarmani/nltk_data...\n",
      "[nltk_data]    |   Package moses_sample is already up-to-date!\n",
      "[nltk_data]    | Downloading package movie_reviews to\n",
      "[nltk_data]    |     /Users/adarmani/nltk_data...\n",
      "[nltk_data]    |   Package movie_reviews is already up-to-date!\n",
      "[nltk_data]    | Downloading package mte_teip5 to\n",
      "[nltk_data]    |     /Users/adarmani/nltk_data...\n",
      "[nltk_data]    |   Package mte_teip5 is already up-to-date!\n",
      "[nltk_data]    | Downloading package mwa_ppdb to\n",
      "[nltk_data]    |     /Users/adarmani/nltk_data...\n",
      "[nltk_data]    |   Package mwa_ppdb is already up-to-date!\n",
      "[nltk_data]    | Downloading package names to\n",
      "[nltk_data]    |     /Users/adarmani/nltk_data...\n",
      "[nltk_data]    |   Package names is already up-to-date!\n",
      "[nltk_data]    | Downloading package nombank.1.0 to\n",
      "[nltk_data]    |     /Users/adarmani/nltk_data...\n",
      "[nltk_data]    |   Package nombank.1.0 is already up-to-date!\n",
      "[nltk_data]    | Downloading package nonbreaking_prefixes to\n",
      "[nltk_data]    |     /Users/adarmani/nltk_data...\n",
      "[nltk_data]    |   Package nonbreaking_prefixes is already up-to-date!\n",
      "[nltk_data]    | Downloading package nps_chat to\n",
      "[nltk_data]    |     /Users/adarmani/nltk_data...\n",
      "[nltk_data]    |   Package nps_chat is already up-to-date!\n",
      "[nltk_data]    | Downloading package omw to\n",
      "[nltk_data]    |     /Users/adarmani/nltk_data...\n",
      "[nltk_data]    |   Package omw is already up-to-date!\n",
      "[nltk_data]    | Downloading package omw-1.4 to\n",
      "[nltk_data]    |     /Users/adarmani/nltk_data...\n",
      "[nltk_data]    |   Package omw-1.4 is already up-to-date!\n",
      "[nltk_data]    | Downloading package opinion_lexicon to\n",
      "[nltk_data]    |     /Users/adarmani/nltk_data...\n",
      "[nltk_data]    |   Package opinion_lexicon is already up-to-date!\n",
      "[nltk_data]    | Downloading package panlex_swadesh to\n",
      "[nltk_data]    |     /Users/adarmani/nltk_data...\n",
      "[nltk_data]    |   Package panlex_swadesh is already up-to-date!\n",
      "[nltk_data]    | Downloading package paradigms to\n",
      "[nltk_data]    |     /Users/adarmani/nltk_data...\n",
      "[nltk_data]    |   Package paradigms is already up-to-date!\n",
      "[nltk_data]    | Downloading package pe08 to\n",
      "[nltk_data]    |     /Users/adarmani/nltk_data...\n",
      "[nltk_data]    |   Package pe08 is already up-to-date!\n",
      "[nltk_data]    | Downloading package perluniprops to\n",
      "[nltk_data]    |     /Users/adarmani/nltk_data...\n",
      "[nltk_data]    |   Package perluniprops is already up-to-date!\n",
      "[nltk_data]    | Downloading package pil to\n",
      "[nltk_data]    |     /Users/adarmani/nltk_data...\n",
      "[nltk_data]    |   Package pil is already up-to-date!\n",
      "[nltk_data]    | Downloading package pl196x to\n",
      "[nltk_data]    |     /Users/adarmani/nltk_data...\n",
      "[nltk_data]    |   Package pl196x is already up-to-date!\n",
      "[nltk_data]    | Downloading package porter_test to\n",
      "[nltk_data]    |     /Users/adarmani/nltk_data...\n",
      "[nltk_data]    |   Package porter_test is already up-to-date!\n",
      "[nltk_data]    | Downloading package ppattach to\n",
      "[nltk_data]    |     /Users/adarmani/nltk_data...\n",
      "[nltk_data]    |   Package ppattach is already up-to-date!\n",
      "[nltk_data]    | Downloading package problem_reports to\n",
      "[nltk_data]    |     /Users/adarmani/nltk_data...\n",
      "[nltk_data]    |   Package problem_reports is already up-to-date!\n",
      "[nltk_data]    | Downloading package product_reviews_1 to\n",
      "[nltk_data]    |     /Users/adarmani/nltk_data...\n",
      "[nltk_data]    |   Package product_reviews_1 is already up-to-date!\n",
      "[nltk_data]    | Downloading package product_reviews_2 to\n",
      "[nltk_data]    |     /Users/adarmani/nltk_data...\n",
      "[nltk_data]    |   Package product_reviews_2 is already up-to-date!\n",
      "[nltk_data]    | Downloading package propbank to\n",
      "[nltk_data]    |     /Users/adarmani/nltk_data...\n",
      "[nltk_data]    |   Package propbank is already up-to-date!\n",
      "[nltk_data]    | Downloading package pros_cons to\n",
      "[nltk_data]    |     /Users/adarmani/nltk_data...\n",
      "[nltk_data]    |   Package pros_cons is already up-to-date!\n",
      "[nltk_data]    | Downloading package ptb to\n",
      "[nltk_data]    |     /Users/adarmani/nltk_data...\n",
      "[nltk_data]    |   Package ptb is already up-to-date!\n",
      "[nltk_data]    | Downloading package punkt to\n",
      "[nltk_data]    |     /Users/adarmani/nltk_data...\n",
      "[nltk_data]    |   Package punkt is already up-to-date!\n",
      "[nltk_data]    | Downloading package qc to\n",
      "[nltk_data]    |     /Users/adarmani/nltk_data...\n",
      "[nltk_data]    |   Package qc is already up-to-date!\n",
      "[nltk_data]    | Downloading package reuters to\n",
      "[nltk_data]    |     /Users/adarmani/nltk_data...\n",
      "[nltk_data]    |   Package reuters is already up-to-date!\n",
      "[nltk_data]    | Downloading package rslp to\n",
      "[nltk_data]    |     /Users/adarmani/nltk_data...\n",
      "[nltk_data]    |   Package rslp is already up-to-date!\n",
      "[nltk_data]    | Downloading package rte to\n",
      "[nltk_data]    |     /Users/adarmani/nltk_data...\n",
      "[nltk_data]    |   Package rte is already up-to-date!\n",
      "[nltk_data]    | Downloading package sample_grammars to\n",
      "[nltk_data]    |     /Users/adarmani/nltk_data...\n",
      "[nltk_data]    |   Package sample_grammars is already up-to-date!\n",
      "[nltk_data]    | Downloading package semcor to\n",
      "[nltk_data]    |     /Users/adarmani/nltk_data...\n",
      "[nltk_data]    |   Package semcor is already up-to-date!\n",
      "[nltk_data]    | Downloading package senseval to\n",
      "[nltk_data]    |     /Users/adarmani/nltk_data...\n",
      "[nltk_data]    |   Package senseval is already up-to-date!\n",
      "[nltk_data]    | Downloading package sentence_polarity to\n",
      "[nltk_data]    |     /Users/adarmani/nltk_data...\n",
      "[nltk_data]    |   Package sentence_polarity is already up-to-date!\n",
      "[nltk_data]    | Downloading package sentiwordnet to\n",
      "[nltk_data]    |     /Users/adarmani/nltk_data...\n",
      "[nltk_data]    |   Package sentiwordnet is already up-to-date!\n",
      "[nltk_data]    | Downloading package shakespeare to\n",
      "[nltk_data]    |     /Users/adarmani/nltk_data...\n",
      "[nltk_data]    |   Package shakespeare is already up-to-date!\n",
      "[nltk_data]    | Downloading package sinica_treebank to\n",
      "[nltk_data]    |     /Users/adarmani/nltk_data...\n",
      "[nltk_data]    |   Package sinica_treebank is already up-to-date!\n",
      "[nltk_data]    | Downloading package smultron to\n",
      "[nltk_data]    |     /Users/adarmani/nltk_data...\n",
      "[nltk_data]    |   Package smultron is already up-to-date!\n",
      "[nltk_data]    | Downloading package snowball_data to\n",
      "[nltk_data]    |     /Users/adarmani/nltk_data...\n",
      "[nltk_data]    |   Package snowball_data is already up-to-date!\n",
      "[nltk_data]    | Downloading package spanish_grammars to\n",
      "[nltk_data]    |     /Users/adarmani/nltk_data...\n",
      "[nltk_data]    |   Package spanish_grammars is already up-to-date!\n",
      "[nltk_data]    | Downloading package state_union to\n",
      "[nltk_data]    |     /Users/adarmani/nltk_data...\n",
      "[nltk_data]    |   Package state_union is already up-to-date!\n",
      "[nltk_data]    | Downloading package stopwords to\n",
      "[nltk_data]    |     /Users/adarmani/nltk_data...\n",
      "[nltk_data]    |   Package stopwords is already up-to-date!\n",
      "[nltk_data]    | Downloading package subjectivity to\n",
      "[nltk_data]    |     /Users/adarmani/nltk_data...\n",
      "[nltk_data]    |   Package subjectivity is already up-to-date!\n",
      "[nltk_data]    | Downloading package swadesh to\n",
      "[nltk_data]    |     /Users/adarmani/nltk_data...\n",
      "[nltk_data]    |   Package swadesh is already up-to-date!\n",
      "[nltk_data]    | Downloading package switchboard to\n",
      "[nltk_data]    |     /Users/adarmani/nltk_data...\n",
      "[nltk_data]    |   Package switchboard is already up-to-date!\n",
      "[nltk_data]    | Downloading package tagsets to\n",
      "[nltk_data]    |     /Users/adarmani/nltk_data...\n",
      "[nltk_data]    |   Package tagsets is already up-to-date!\n",
      "[nltk_data]    | Downloading package timit to\n",
      "[nltk_data]    |     /Users/adarmani/nltk_data...\n",
      "[nltk_data]    |   Package timit is already up-to-date!\n",
      "[nltk_data]    | Downloading package toolbox to\n",
      "[nltk_data]    |     /Users/adarmani/nltk_data...\n",
      "[nltk_data]    |   Package toolbox is already up-to-date!\n",
      "[nltk_data]    | Downloading package treebank to\n",
      "[nltk_data]    |     /Users/adarmani/nltk_data...\n",
      "[nltk_data]    |   Package treebank is already up-to-date!\n",
      "[nltk_data]    | Downloading package twitter_samples to\n",
      "[nltk_data]    |     /Users/adarmani/nltk_data...\n",
      "[nltk_data]    |   Package twitter_samples is already up-to-date!\n",
      "[nltk_data]    | Downloading package udhr to\n",
      "[nltk_data]    |     /Users/adarmani/nltk_data...\n",
      "[nltk_data]    |   Package udhr is already up-to-date!\n",
      "[nltk_data]    | Downloading package udhr2 to\n",
      "[nltk_data]    |     /Users/adarmani/nltk_data...\n",
      "[nltk_data]    |   Package udhr2 is already up-to-date!\n",
      "[nltk_data]    | Downloading package unicode_samples to\n",
      "[nltk_data]    |     /Users/adarmani/nltk_data...\n",
      "[nltk_data]    |   Package unicode_samples is already up-to-date!\n",
      "[nltk_data]    | Downloading package universal_tagset to\n",
      "[nltk_data]    |     /Users/adarmani/nltk_data...\n",
      "[nltk_data]    |   Package universal_tagset is already up-to-date!\n",
      "[nltk_data]    | Downloading package universal_treebanks_v20 to\n",
      "[nltk_data]    |     /Users/adarmani/nltk_data...\n",
      "[nltk_data]    |   Package universal_treebanks_v20 is already up-to-\n",
      "[nltk_data]    |       date!\n",
      "[nltk_data]    | Downloading package vader_lexicon to\n",
      "[nltk_data]    |     /Users/adarmani/nltk_data...\n",
      "[nltk_data]    |   Package vader_lexicon is already up-to-date!\n",
      "[nltk_data]    | Downloading package verbnet to\n",
      "[nltk_data]    |     /Users/adarmani/nltk_data...\n",
      "[nltk_data]    |   Package verbnet is already up-to-date!\n",
      "[nltk_data]    | Downloading package verbnet3 to\n",
      "[nltk_data]    |     /Users/adarmani/nltk_data...\n",
      "[nltk_data]    |   Package verbnet3 is already up-to-date!\n",
      "[nltk_data]    | Downloading package webtext to\n",
      "[nltk_data]    |     /Users/adarmani/nltk_data...\n",
      "[nltk_data]    |   Package webtext is already up-to-date!\n",
      "[nltk_data]    | Downloading package wmt15_eval to\n",
      "[nltk_data]    |     /Users/adarmani/nltk_data...\n",
      "[nltk_data]    |   Package wmt15_eval is already up-to-date!\n",
      "[nltk_data]    | Downloading package word2vec_sample to\n",
      "[nltk_data]    |     /Users/adarmani/nltk_data...\n",
      "[nltk_data]    |   Package word2vec_sample is already up-to-date!\n",
      "[nltk_data]    | Downloading package wordnet to\n",
      "[nltk_data]    |     /Users/adarmani/nltk_data...\n",
      "[nltk_data]    |   Package wordnet is already up-to-date!\n",
      "[nltk_data]    | Downloading package wordnet2021 to\n",
      "[nltk_data]    |     /Users/adarmani/nltk_data...\n",
      "[nltk_data]    |   Package wordnet2021 is already up-to-date!\n",
      "[nltk_data]    | Downloading package wordnet2022 to\n",
      "[nltk_data]    |     /Users/adarmani/nltk_data...\n",
      "[nltk_data]    |   Package wordnet2022 is already up-to-date!\n",
      "[nltk_data]    | Downloading package wordnet31 to\n",
      "[nltk_data]    |     /Users/adarmani/nltk_data...\n",
      "[nltk_data]    |   Package wordnet31 is already up-to-date!\n",
      "[nltk_data]    | Downloading package wordnet_ic to\n",
      "[nltk_data]    |     /Users/adarmani/nltk_data...\n",
      "[nltk_data]    |   Package wordnet_ic is already up-to-date!\n",
      "[nltk_data]    | Downloading package words to\n",
      "[nltk_data]    |     /Users/adarmani/nltk_data...\n",
      "[nltk_data]    |   Package words is already up-to-date!\n",
      "[nltk_data]    | Downloading package ycoe to\n",
      "[nltk_data]    |     /Users/adarmani/nltk_data...\n",
      "[nltk_data]    |   Package ycoe is already up-to-date!\n",
      "[nltk_data]    | \n",
      "[nltk_data]  Done downloading collection all\n"
     ]
    }
   ],
   "source": [
    "import string\n",
    "import pandas as pd\n",
    "import nltk\n",
    "from sklearn.feature_extraction.text import CountVectorizer\n",
    "from sklearn.base import TransformerMixin\n",
    "from nltk.corpus import stopwords\n",
    "from sklearn.base import TransformerMixin\n",
    "from nltk.tokenize import sent_tokenize\n",
    "from nltk.tokenize import ToktokTokenizer\n",
    "from nltk.stem import WordNetLemmatizer\n",
    "from nltk.corpus import wordnet \n",
    "from nltk import pos_tag\n",
    "\n",
    "nltk.download('all')\n",
    "\n",
    "NGRAMS = (2,2) # BGrams only\n",
    "STOP_WORDS = stopwords.words('english')\n",
    "SYMBOLS = \" \".join(string.punctuation).split(\" \") + [\"-\", \"...\", \"”\", \"”\", \"|\", \"#\"]\n",
    "COMMON_WORDS = [] # to be populated later in our analysis\n",
    "toktok = ToktokTokenizer()\n",
    "wnl = WordNetLemmatizer()\n",
    "\n",
    "def _get_wordnet_pos(word):\n",
    "    tag = pos_tag([word])[0][1][0].upper()\n",
    "    tag_dict = {\"J\": wordnet.ADJ,\n",
    "                \"N\": wordnet.NOUN,\n",
    "                \"V\": wordnet.VERB,\n",
    "                \"R\": wordnet.ADV}\n",
    "\n",
    "    return tag_dict.get(tag, wordnet.NOUN)\n",
    "\n",
    "# Creating our tokenizer function. Can also use a TFIDF\n",
    "def custom_tokenizer(sentence):\n",
    "    # Let's use some speed here.\n",
    "    tokens = [toktok.tokenize(sent) for sent in sent_tokenize(sentence)]\n",
    "    tokens = [wnl.lemmatize(word, _get_wordnet_pos(word)) for word in tokens[0]]\n",
    "    tokens = [word.lower().strip() for word in tokens]\n",
    "    tokens = [tok for tok in tokens if (tok not in STOP_WORDS and tok not in SYMBOLS and tok not in COMMON_WORDS)]\n",
    "\n",
    "    return tokens\n",
    "\n",
    "class predictors(TransformerMixin):\n",
    "    def transform(self, X, **transform_params):\n",
    "        return [clean_text(text) for text in X]\n",
    "\n",
    "    def fit(self, X, y=None, **fit_params):\n",
    "        return self\n",
    "\n",
    "    def get_params(self, deep=True):\n",
    "        return {}\n",
    "\n",
    "\n",
    "def clean_text(text):\n",
    "    if (type(text) == str):\n",
    "        text = text.strip().replace(\"\\n\", \" \").replace(\"\\r\", \" \")\n",
    "        text = text.lower()\n",
    "    else:\n",
    "        text = \"NA\"\n",
    "    return text\n",
    "\n",
    "\n",
    "# With the BoW, the model does a bit better.\n",
    "bow_vector = CountVectorizer(\n",
    "    tokenizer=custom_tokenizer, ngram_range=NGRAMS)"
   ]
  },
  {
   "cell_type": "code",
   "execution_count": 6,
   "metadata": {},
   "outputs": [],
   "source": [
    "from sklearn.model_selection import train_test_split\n",
    "from sklearn import preprocessing\n",
    "\n",
    "le = preprocessing.LabelEncoder()\n",
    "\n",
    "# Combine features for NLP.\n",
    "X = data['titles'].astype(str) +  ' ' + data['descriptions'].astype(str)\n",
    "ylabels = le.fit_transform(data['class'])\n",
    "\n",
    "train_ratio = 0.75\n",
    "validation_ratio = 0.15\n",
    "test_ratio = 0.10\n",
    "\n",
    "# train is now 75% of the entire data set\n",
    "X_train, X_test, y_train, y_test = train_test_split(X, ylabels, test_size=1 - train_ratio)\n",
    "X_val, X_test, y_val, y_test = train_test_split(X_test, y_test, test_size=test_ratio/(test_ratio + validation_ratio))"
   ]
  },
  {
   "attachments": {},
   "cell_type": "markdown",
   "metadata": {},
   "source": [
    "Let's look at the word frequencies by label, using our vectorizer - this is a slow process, but we want to see if the material for embeddings makes sense for the given class.\n",
    "\n",
    "Anything that is too common, and irrelavant will be added to the COMMONWORDS list, and will be dropped in the vectorization step when building the model."
   ]
  },
  {
   "cell_type": "code",
   "execution_count": 7,
   "metadata": {},
   "outputs": [
    {
     "data": {
      "application/vnd.jupyter.widget-view+json": {
       "model_id": "d48f1d5ec41740759c154a16811511f4",
       "version_major": 2,
       "version_minor": 0
      },
      "text/plain": [
       "fn:fit:   0%|          | 0/800 [00:00<?, ?it/s]"
      ]
     },
     "metadata": {},
     "output_type": "display_data"
    },
    {
     "name": "stderr",
     "output_type": "stream",
     "text": [
      "/Users/adarmani/miniconda3/envs/hack2023/lib/python3.9/site-packages/sklearn/feature_extraction/text.py:528: UserWarning: The parameter 'token_pattern' will not be used since 'tokenizer' is not None'\n",
      "  warnings.warn(\n"
     ]
    },
    {
     "data": {
      "application/vnd.jupyter.widget-view+json": {
       "model_id": "ee21e111c2f8454e9c8f6f8edf7829ef",
       "version_major": 2,
       "version_minor": 0
      },
      "text/plain": [
       "fn:transform:   0%|          | 0/800 [00:00<?, ?it/s]"
      ]
     },
     "metadata": {},
     "output_type": "display_data"
    },
    {
     "data": {
      "application/vnd.jupyter.widget-view+json": {
       "model_id": "32509a5b2c2b46018782554a0f0b89db",
       "version_major": 2,
       "version_minor": 0
      },
      "text/plain": [
       "fn:labels:   0%|          | 0/5 [00:00<?, ?it/s]"
      ]
     },
     "metadata": {},
     "output_type": "display_data"
    },
    {
     "data": {
      "application/vnd.jupyter.widget-view+json": {
       "model_id": "5ae0f25a9e5f4163b4efde0497bd7df7",
       "version_major": 2,
       "version_minor": 0
      },
      "text/plain": [
       "  0%|          | 0/4922 [00:00<?, ?it/s]"
      ]
     },
     "metadata": {},
     "output_type": "display_data"
    },
    {
     "data": {
      "application/vnd.jupyter.widget-view+json": {
       "model_id": "45b3069e77ae4949b86b0b37241153e1",
       "version_major": 2,
       "version_minor": 0
      },
      "text/plain": [
       "Plot labels: 0it [00:00, ?it/s]"
      ]
     },
     "metadata": {},
     "output_type": "display_data"
    },
    {
     "name": "stderr",
     "output_type": "stream",
     "text": [
      "/var/folders/59/fz3bfjtx70g4bh0_0sh4klnw0000gq/T/ipykernel_4772/3436668919.py:57: UserWarning: FixedFormatter should only be used together with FixedLocator\n",
      "  axes[y_plot][x_plot].set_yticklabels(y1, rotation=0)\n",
      "/var/folders/59/fz3bfjtx70g4bh0_0sh4klnw0000gq/T/ipykernel_4772/3436668919.py:57: UserWarning: FixedFormatter should only be used together with FixedLocator\n",
      "  axes[y_plot][x_plot].set_yticklabels(y1, rotation=0)\n",
      "/var/folders/59/fz3bfjtx70g4bh0_0sh4klnw0000gq/T/ipykernel_4772/3436668919.py:57: UserWarning: FixedFormatter should only be used together with FixedLocator\n",
      "  axes[y_plot][x_plot].set_yticklabels(y1, rotation=0)\n",
      "/var/folders/59/fz3bfjtx70g4bh0_0sh4klnw0000gq/T/ipykernel_4772/3436668919.py:57: UserWarning: FixedFormatter should only be used together with FixedLocator\n",
      "  axes[y_plot][x_plot].set_yticklabels(y1, rotation=0)\n",
      "/var/folders/59/fz3bfjtx70g4bh0_0sh4klnw0000gq/T/ipykernel_4772/3436668919.py:57: UserWarning: FixedFormatter should only be used together with FixedLocator\n",
      "  axes[y_plot][x_plot].set_yticklabels(y1, rotation=0)\n"
     ]
    },
    {
     "data": {
      "image/png": "[encoded data removed]",
      "text/plain": [
       "<Figure size 2600x1200 with 6 Axes>"
      ]
     },
     "metadata": {},
     "output_type": "display_data"
    }
   ],
   "source": [
    "import seaborn as sns\n",
    "from sklearn.feature_selection import chi2\n",
    "\n",
    "def get_top_n_dependant_ngrams(corpus, corpus_labels, ngram=1, n=3):\n",
    "    # use a private vectorizer.\n",
    "    _vect = CountVectorizer(tokenizer=custom_tokenizer,\n",
    "                            ngram_range=(ngram, ngram))\n",
    "    vect = _vect.fit(tqdm(corpus, \"fn:fit\"))\n",
    "    bow_vect = vect.transform(tqdm(corpus, \"fn:transform\"))\n",
    "    features = bow_vect.toarray()\n",
    "\n",
    "    labels = np.unique(corpus_labels)\n",
    "    ngrams_dict = {}\n",
    "    for label in tqdm(labels, \"fn:labels\"):\n",
    "        corpus_label_filtered = corpus_labels == label\n",
    "        features_chi2 = chi2(features, corpus_label_filtered)\n",
    "        feature_names = np.array(_vect.get_feature_names_out())\n",
    "\n",
    "        feature_rev_indices = np.argsort(features_chi2[0])[::-1]\n",
    "        feature_rev_indices = feature_rev_indices[:n]\n",
    "        ngrams = [(feature_names[idx], features_chi2[0][idx]) for idx in feature_rev_indices]\n",
    "        ngrams_dict[label] = ngrams\n",
    "\n",
    "    # while we are at it, let's return top N counts also\n",
    "    sum_words = bow_vect.sum(axis=0)\n",
    "    bottom_words_counts = [(word, sum_words[0, idx])\n",
    "                  for word, idx in tqdm(_vect.vocabulary_.items())]\n",
    "    top_words_counts = sorted(\n",
    "        bottom_words_counts, key=lambda x: x[1], reverse=True)\n",
    "    top_words_counts = top_words_counts[:n]\n",
    "    bottom_words_counts= bottom_words_counts[:n]\n",
    "        \n",
    "    return {'labels_freq': ngrams_dict,\n",
    "            'top_corpus_freq': top_words_counts,\n",
    "            'bottom_corpus_freq': bottom_words_counts}\n",
    "\n",
    "\n",
    "TOP_N_WORDS = 10\n",
    "\n",
    "common_bigrams_label_dict = get_top_n_dependant_ngrams(X, ylabels, ngram=1, n=TOP_N_WORDS)\n",
    "\n",
    "fig, axes = plt.subplots(2, 3, figsize=(26, 12), sharey=False)\n",
    "fig.suptitle('NGrams per Class')\n",
    "fig.subplots_adjust(hspace=0.25, wspace=0.50)\n",
    "\n",
    "x_plot = 0\n",
    "y_plot = 0\n",
    "labels = np.sort(np.unique(ylabels), axis=None)\n",
    "for idx, label in tqdm(enumerate(labels), \"Plot labels\"):\n",
    "    common_ngrams_df = pd.DataFrame(\n",
    "        common_bigrams_label_dict['labels_freq'][label], columns=['ngram', 'chi2'])\n",
    "    x1, y1 = common_ngrams_df['chi2'], common_ngrams_df['ngram']\n",
    "\n",
    "    # Reverse it from the ordinal label we transformed it.\n",
    "    axes[y_plot][x_plot].set_title(\n",
    "        f'{le.inverse_transform([label])} ngram dependence', fontsize=6)\n",
    "    axes[y_plot][x_plot].set_yticklabels(y1, rotation=0)\n",
    "    sns.barplot(ax=axes[y_plot][x_plot], x=x1, y=y1)\n",
    "    # Go to next plot.\n",
    "    if idx > 0 and idx % 2 == 0:\n",
    "        x_plot = 0\n",
    "        y_plot += 1\n",
    "    else:\n",
    "        x_plot += 1\n",
    "\n",
    "plt.show()"
   ]
  },
  {
   "cell_type": "code",
   "execution_count": 8,
   "metadata": {},
   "outputs": [
    {
     "name": "stdout",
     "output_type": "stream",
     "text": [
      "[('work', 1382), ('team', 1062), ('recruitment', 756), ('product', 704), ('business', 679), ('candidate', 677), ('development', 662), ('new', 658), ('manager', 622), ('management', 618)]\n",
      "[('break', 8), ('rule', 32), ('conventional', 1), ('wealthbuilding', 2), ('achieve', 92), ('financial', 292), ('freedom', 36), ('rich', 9), ('renegade', 1), ('title', 8)]\n"
     ]
    }
   ],
   "source": [
    "print(common_bigrams_label_dict['top_corpus_freq'])\n",
    "print(common_bigrams_label_dict['bottom_corpus_freq'])"
   ]
  },
  {
   "attachments": {},
   "cell_type": "markdown",
   "metadata": {},
   "source": [
    "These most frequent or least frequent words don't have relevance to the individual classes, and are available in all text. We check if they these don't have high chi2 score though, as we don't want to alter the text's classification by removing a highly correlated but low frequency word."
   ]
  },
  {
   "cell_type": "code",
   "execution_count": 9,
   "metadata": {},
   "outputs": [
    {
     "name": "stdout",
     "output_type": "stream",
     "text": [
      "Highest frequency of ngrames in labels: ['work', 'blockchain', 'team', 'crypto', 'recruitment', 'candidate', 'management', 'company', 'client', 'help', 'wealth', 'mentor', 'guidance', 'achieve', 'csilla', 'swicon', 'freedom', 'reach', 'coach', 'could', 'management', 'android', 'developer', 'engineer', 'recruitment', 'merchandising', 'opensource', 'content', 'operation', 'hr', 'hr', 'recruitment', 'candidate', 'employee', 'manager', 'role', 'department', 'job', 'alexia', 'part', 'product', 'development', 'campaign', 'seth', 'work', 'fifty', 'web', 'intelligence', 'chief', 'app']\n"
     ]
    },
    {
     "data": {
      "text/plain": [
       "array(['business', 'new', 'break', 'rule', 'conventional',\n",
       "       'wealthbuilding', 'financial', 'rich', 'renegade', 'title'],\n",
       "      dtype='<U14')"
      ]
     },
     "execution_count": 9,
     "metadata": {},
     "output_type": "execute_result"
    }
   ],
   "source": [
    "common_label_freq = [word for label in labels for word, count in common_bigrams_label_dict['labels_freq'][label]]\n",
    "print(f'Highest frequency of ngrames in labels: {common_label_freq}')\n",
    "\n",
    "COMMON_WORDS = np.append([word for word,count in common_bigrams_label_dict['top_corpus_freq'] if word not in common_label_freq], \n",
    "                         [word for word,count in common_bigrams_label_dict['bottom_corpus_freq'] if word not in common_label_freq ])\n",
    "COMMON_WORDS"
   ]
  },
  {
   "cell_type": "code",
   "execution_count": 10,
   "metadata": {},
   "outputs": [
    {
     "data": {
      "text/plain": [
       "<function matplotlib.pyplot.show(close=None, block=None)>"
      ]
     },
     "execution_count": 10,
     "metadata": {},
     "output_type": "execute_result"
    },
    {
     "data": {
      "image/png": "[encoded data removed]",
      "text/plain": [
       "<Figure size 400x200 with 1 Axes>"
      ]
     },
     "metadata": {},
     "output_type": "display_data"
    }
   ],
   "source": [
    "plt.figure(figsize=(4,2))\n",
    "sns.countplot(x=y_train)\n",
    "plt.show"
   ]
  },
  {
   "cell_type": "markdown",
   "metadata": {},
   "source": [
    "Since our training dataset is unbalanced, we need to resample to least common class, or use weights. The former is the easiest for this exercise."
   ]
  },
  {
   "cell_type": "code",
   "execution_count": 11,
   "metadata": {},
   "outputs": [
    {
     "name": "stdout",
     "output_type": "stream",
     "text": [
      "Use these wieghts: {0: 0.6976744186046512, 1: 1.1214953271028036, 2: 0.6666666666666666, 3: 2.142857142857143, 4: 1.411764705882353}\n",
      "Least sampled class of size 77\n",
      "Undersampled shapes: (77, 5), (77, 5), (77, 5), (77, 5), (77, 5)\n"
     ]
    }
   ],
   "source": [
    "# Either class weights\n",
    "from sklearn.utils.class_weight import compute_class_weight\n",
    "\n",
    "\n",
    "keys = np.unique(y_train)\n",
    "values = compute_class_weight(class_weight='balanced', classes=keys, y=y_train)\n",
    "\n",
    "class_weights = dict(zip(keys, values))\n",
    "print(f'Use these wieghts: {class_weights}')\n",
    "\n",
    "# Or undersmaple.\n",
    "\n",
    "min_size = np.array([len(data[data['class'] == 's']), len(data[data['class'] == 'o']), len(data[data['class'] == 'c']), len(data[data['class'] == 'f']), len(data[data['class'] == 'w'])]).min()\n",
    "print(f'Least sampled class of size {min_size}')\n",
    "\n",
    "data4 = data[data['class'] == 's'].sample(n=min_size, random_state=101)\n",
    "data3 = data[data['class'] == 'o'].sample(n=min_size, random_state=101)\n",
    "data2 = data[data['class']=='c'].sample(n=min_size, random_state=101)\n",
    "data1 = data[data['class']=='f'].sample(n=min_size, random_state=101)\n",
    "data0 = data[data['class']=='w'].sample(n=min_size, random_state=101)\n",
    "\n",
    "data_under = pd.concat([data0,data1,data2,data3,data4],axis=0)\n",
    "\n",
    "print(f'Undersampled shapes: {data0.shape}, {data1.shape}, {data2.shape}, {data3.shape}, {data4.shape}')"
   ]
  },
  {
   "attachments": {},
   "cell_type": "markdown",
   "metadata": {},
   "source": [
    "We train the model here. We will use a pipeline, we a preselected classifier (in this case an SVM case the best results in previous tests), and cross validate the best hyperparams. We then save the model for reuse later on."
   ]
  },
  {
   "cell_type": "code",
   "execution_count": 12,
   "metadata": {},
   "outputs": [
    {
     "name": "stderr",
     "output_type": "stream",
     "text": [
      "/Users/adarmani/miniconda3/envs/hack2023/lib/python3.9/site-packages/sklearn/feature_extraction/text.py:528: UserWarning: The parameter 'token_pattern' will not be used since 'tokenizer' is not None'\n",
      "  warnings.warn(\n",
      "/Users/adarmani/miniconda3/envs/hack2023/lib/python3.9/site-packages/sklearn/feature_extraction/text.py:528: UserWarning: The parameter 'token_pattern' will not be used since 'tokenizer' is not None'\n",
      "  warnings.warn(\n",
      "/Users/adarmani/miniconda3/envs/hack2023/lib/python3.9/site-packages/sklearn/feature_extraction/text.py:528: UserWarning: The parameter 'token_pattern' will not be used since 'tokenizer' is not None'\n",
      "  warnings.warn(\n"
     ]
    },
    {
     "name": "stdout",
     "output_type": "stream",
     "text": [
      "The best estimator: Pipeline(steps=[('cleaner', <__main__.predictors object at 0x28a49c4f0>),\n",
      "                ('vect',\n",
      "                 CountVectorizer(ngram_range=(1, 2),\n",
      "                                 tokenizer=<function custom_tokenizer at 0x17c4d2e50>)),\n",
      "                ('tfidf', TfidfTransformer(sublinear_tf=True)),\n",
      "                ('clf', LinearSVC(C=1, class_weight='balanced'))])\n",
      "\n",
      "The best score: 0.9716666666666667\n",
      "\n",
      "The best parameters: {'clf__C': 1, 'clf__class_weight': 'balanced', 'clf__loss': 'squared_hinge', 'clf__penalty': 'l2', 'tfidf__sublinear_tf': True, 'tfidf__use_idf': True, 'vect__ngram_range': (1, 2)}\n",
      "\n"
     ]
    },
    {
     "name": "stderr",
     "output_type": "stream",
     "text": [
      "/Users/adarmani/miniconda3/envs/hack2023/lib/python3.9/site-packages/sklearn/feature_extraction/text.py:528: UserWarning: The parameter 'token_pattern' will not be used since 'tokenizer' is not None'\n",
      "  warnings.warn(\n",
      "/Users/adarmani/miniconda3/envs/hack2023/lib/python3.9/site-packages/sklearn/feature_extraction/text.py:528: UserWarning: The parameter 'token_pattern' will not be used since 'tokenizer' is not None'\n",
      "  warnings.warn(\n",
      "/Users/adarmani/miniconda3/envs/hack2023/lib/python3.9/site-packages/sklearn/feature_extraction/text.py:528: UserWarning: The parameter 'token_pattern' will not be used since 'tokenizer' is not None'\n",
      "  warnings.warn(\n",
      "/Users/adarmani/miniconda3/envs/hack2023/lib/python3.9/site-packages/sklearn/feature_extraction/text.py:528: UserWarning: The parameter 'token_pattern' will not be used since 'tokenizer' is not None'\n",
      "  warnings.warn(\n",
      "/Users/adarmani/miniconda3/envs/hack2023/lib/python3.9/site-packages/sklearn/feature_extraction/text.py:528: UserWarning: The parameter 'token_pattern' will not be used since 'tokenizer' is not None'\n",
      "  warnings.warn(\n"
     ]
    }
   ],
   "source": [
    "from sklearn import metrics\n",
    "from sklearn.svm import LinearSVC\n",
    "from sklearn.pipeline import Pipeline\n",
    "from sklearn.feature_extraction.text import TfidfTransformer\n",
    "from sklearn.model_selection import GridSearchCV\n",
    "from sklearn.calibration import CalibratedClassifierCV\n",
    "\n",
    "# If we want to use an ensemle in case of weak models:\n",
    "# \n",
    "# from sklearn.linear_model import SGDClassifier\n",
    "# from sklearn.naive_bayes import MultinomialNB\n",
    "# from sklearn.linear_model import LogisticRegression\n",
    "# from sklearn.ensemble import StackingClassifier\n",
    "# estimators = [ ('lsv', LinearSVC()), ('sgdc', SGDClassifier())]\n",
    "# sclf = StackingClassifier(estimators=estimators,\n",
    "#                          final_estimator=LogisticRegression(),\n",
    "#                          passthrough=True)\n",
    "\n",
    "text_clf = Pipeline([\n",
    "        (\"cleaner\", predictors()),\n",
    "        ('vect', bow_vector),\n",
    "        ('tfidf', TfidfTransformer()),\n",
    "        ('clf', LinearSVC()),\n",
    "    ],\n",
    "    verbose=False) # Add verbose to see progress, note that we run x2 for each param combination.\n",
    "parameters = {\n",
    "    'vect__ngram_range': [(1, 2)],\n",
    "    'tfidf__use_idf': [True],\n",
    "    'tfidf__sublinear_tf': [True],\n",
    "    'clf__penalty': ['l2'],\n",
    "    'clf__loss':  ['squared_hinge'],\n",
    "    'clf__C': [1],\n",
    "    'clf__class_weight': ['balanced']\n",
    "}\n",
    "model_clf = GridSearchCV(text_clf,\n",
    "                        param_grid=parameters,\n",
    "                        refit=True,\n",
    "                        cv=2,\n",
    "                        error_score='raise')\n",
    "model = model_clf.fit(X_train, y_train)\n",
    "\n",
    "# see: model.cv_results_ for more reuslts\n",
    "print(f'The best estimator: {model.best_estimator_}\\n')\n",
    "print(f'The best score: {model.best_score_}\\n')\n",
    "print(f'The best parameters: {model.best_params_}\\n')\n",
    "\n",
    "model = model.best_estimator_\n",
    "model = CalibratedClassifierCV(model).fit(X_val, y_val)\n",
    "\n",
    "predicted = model.predict(X_test)"
   ]
  },
  {
   "attachments": {},
   "cell_type": "markdown",
   "metadata": {},
   "source": [
    "Scoring and analysing our model. We look at the best hyperparams our CV has supplied, for the next model build."
   ]
  },
  {
   "cell_type": "code",
   "execution_count": 13,
   "metadata": {},
   "outputs": [
    {
     "name": "stdout",
     "output_type": "stream",
     "text": [
      "F1: 0.9743506493506494\n",
      "Accuracy: 0.975\n",
      "Precision: 0.9791666666666666\n",
      "Recall: 0.975\n"
     ]
    },
    {
     "data": {
      "text/plain": [
       "<sklearn.metrics._plot.confusion_matrix.ConfusionMatrixDisplay at 0x28a4648e0>"
      ]
     },
     "execution_count": 13,
     "metadata": {},
     "output_type": "execute_result"
    },
    {
     "data": {
      "text/plain": [
       "<Figure size 200x200 with 0 Axes>"
      ]
     },
     "metadata": {},
     "output_type": "display_data"
    },
    {
     "data": {
      "image/png": "[encoded data removed]",
      "text/plain": [
       "<Figure size 640x480 with 2 Axes>"
      ]
     },
     "metadata": {},
     "output_type": "display_data"
    }
   ],
   "source": [
    "# Model Accuracy\n",
    "print(\"F1:\", metrics.f1_score(y_test, predicted, average='weighted'))\n",
    "print(\"Accuracy:\", metrics.accuracy_score(y_test, predicted))\n",
    "print(\"Precision:\", metrics.precision_score(\n",
    "    y_test, predicted, average='weighted'))\n",
    "print(\"Recall:\", metrics.recall_score(y_test, predicted, average='weighted'))\n",
    "\n",
    "#Ploting the confusion matrix\n",
    "plt.figure(figsize=(2, 2))\n",
    "cm = metrics.confusion_matrix(y_test, predicted)\n",
    "disp = metrics.ConfusionMatrixDisplay(confusion_matrix=cm,\n",
    "                                      display_labels=model.classes_)\n",
    "\n",
    "disp.plot()\n"
   ]
  },
  {
   "attachments": {},
   "cell_type": "markdown",
   "metadata": {},
   "source": [
    "Save and test the model. This pickled model will be used with a server. We do the same for the label encoder. Remember to copy these to the server.\n",
    "\n",
    "We can look into quantization for reduced model size."
   ]
  },
  {
   "cell_type": "code",
   "execution_count": 15,
   "metadata": {},
   "outputs": [
    {
     "name": "stdout",
     "output_type": "stream",
     "text": [
      "/Users/adarmani/miniconda3/envs/hack2023/bin/python\n",
      "3.9.15 | packaged by conda-forge | (main, Nov 22 2022, 08:52:10) \n",
      "[Clang 14.0.6 ]\n",
      "sys.version_info(major=3, minor=9, micro=15, releaselevel='final', serial=0)\n",
      "Predicted: ['s'] at confidece [0.33049712]\n",
      "     for features: ['c' 'f' 'o' 's' 'w']\n",
      "     and their probability: [[0.19863227 0.16892373 0.21489152 0.33049712 0.08705535]]\n"
     ]
    }
   ],
   "source": [
    "from joblib import dump, load\n",
    "import sys\n",
    "print(sys.executable)\n",
    "print(sys.version)\n",
    "print(sys.version_info)\n",
    "\n",
    "pickled_le = dump(le, './models/labelencoder.joblib')\n",
    "validate_pickled_le = load('./models/labelencoder.joblib')\n",
    "pickled_model = dump(model, './models/model.joblib')\n",
    "validate_pickled_model = load('./models/model.joblib')\n",
    "\n",
    "xx_test = [\"IT recruitment Consultant at SNFHL I'm an IT/SAP recruiter, who likes to learn new stuff and tries some basic coding with SQL in my free time.\"]\n",
    "\n",
    "yy_result = validate_pickled_model.predict(xx_test)\n",
    "yy_result_label = validate_pickled_le.inverse_transform(yy_result)\n",
    "yy_result_proba = validate_pickled_model.predict_proba(xx_test)\n",
    "\n",
    "print(f'Predicted: {yy_result_label} at confidece {yy_result_proba[0][yy_result]}\\n \\\n",
    "    for features: {validate_pickled_le.inverse_transform(validate_pickled_model.classes_)}\\n \\\n",
    "    and their probability: {yy_result_proba}')"
   ]
  }
 ],
 "metadata": {
  "kernelspec": {
   "display_name": "tutorials",
   "language": "python",
   "name": "python3"
  },
  "language_info": {
   "codemirror_mode": {
    "name": "ipython",
    "version": 3
   },
   "file_extension": ".py",
   "mimetype": "text/x-python",
   "name": "python",
   "nbconvert_exporter": "python",
   "pygments_lexer": "ipython3",
   "version": "3.9.15"
  },
  "orig_nbformat": 4
 },
 "nbformat": 4,
 "nbformat_minor": 2
}
