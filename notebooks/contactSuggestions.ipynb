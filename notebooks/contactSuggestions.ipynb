{
 "cells": [
  {
   "attachments": {},
   "cell_type": "markdown",
   "metadata": {},
   "source": [
    "# LinkedIn Contact Suggestions\n",
    "\n",
    "Pretrained models on which we can generate message suggestions."
   ]
  },
  {
   "cell_type": "code",
   "execution_count": 2,
   "metadata": {},
   "outputs": [
    {
     "ename": "ValueError",
     "evalue": "Improper config format for {'_name_or_path': 'distilbert-base-cased', 'activation': 'gelu', 'architectures': ['DistilBertForMaskedLM'], 'attention_dropout': 0.1, 'dim': 768, 'dropout': 0.1, 'hidden_dim': 3072, 'initializer_range': 0.02, 'max_position_embeddings': 512, 'model_type': 'distilbert', 'n_heads': 12, 'n_layers': 6, 'output_past': True, 'pad_token_id': 0, 'qa_dropout': 0.1, 'seq_classif_dropout': 0.2, 'sinusoidal_pos_embds': False, 'tie_weights_': True, 'transformers_version': '4.24.0', 'vocab_size': 28996}. Expecting python dict contains `class_name` and `config` as keys",
     "output_type": "error",
     "traceback": [
      "\u001b[0;31m---------------------------------------------------------------------------\u001b[0m",
      "\u001b[0;31mValueError\u001b[0m                                Traceback (most recent call last)",
      "Cell \u001b[0;32mIn[2], line 11\u001b[0m\n\u001b[1;32m      9\u001b[0m loaded_model_json \u001b[39m=\u001b[39m json_file\u001b[39m.\u001b[39mread()\n\u001b[1;32m     10\u001b[0m json_file\u001b[39m.\u001b[39mclose()\n\u001b[0;32m---> 11\u001b[0m loaded_model \u001b[39m=\u001b[39m model_from_json(loaded_model_json)\n\u001b[1;32m     12\u001b[0m \u001b[39m# load weights into new model\u001b[39;00m\n\u001b[1;32m     13\u001b[0m loaded_model\u001b[39m.\u001b[39mload_weights(\u001b[39m\"\u001b[39m\u001b[39m./output/tf_model.h5\u001b[39m\u001b[39m\"\u001b[39m)\n",
      "File \u001b[0;32m~/miniconda3/envs/hack2023/lib/python3.9/site-packages/keras/saving/model_config.py:109\u001b[0m, in \u001b[0;36mmodel_from_json\u001b[0;34m(json_string, custom_objects)\u001b[0m\n\u001b[1;32m     86\u001b[0m \u001b[39m\u001b[39m\u001b[39m\"\"\"Parses a JSON model configuration string and returns a model instance.\u001b[39;00m\n\u001b[1;32m     87\u001b[0m \n\u001b[1;32m     88\u001b[0m \u001b[39mUsage:\u001b[39;00m\n\u001b[0;32m   (...)\u001b[0m\n\u001b[1;32m    103\u001b[0m \u001b[39m    A Keras model instance (uncompiled).\u001b[39;00m\n\u001b[1;32m    104\u001b[0m \u001b[39m\"\"\"\u001b[39;00m\n\u001b[1;32m    105\u001b[0m \u001b[39mfrom\u001b[39;00m \u001b[39mkeras\u001b[39;00m\u001b[39m.\u001b[39;00m\u001b[39mlayers\u001b[39;00m \u001b[39mimport\u001b[39;00m (\n\u001b[1;32m    106\u001b[0m     deserialize_from_json,\n\u001b[1;32m    107\u001b[0m )\n\u001b[0;32m--> 109\u001b[0m \u001b[39mreturn\u001b[39;00m deserialize_from_json(json_string, custom_objects\u001b[39m=\u001b[39;49mcustom_objects)\n",
      "File \u001b[0;32m~/miniconda3/envs/hack2023/lib/python3.9/site-packages/keras/layers/serialization.py:272\u001b[0m, in \u001b[0;36mdeserialize_from_json\u001b[0;34m(json_string, custom_objects)\u001b[0m\n\u001b[1;32m    266\u001b[0m populate_deserializable_objects()\n\u001b[1;32m    267\u001b[0m config \u001b[39m=\u001b[39m json_utils\u001b[39m.\u001b[39mdecode_and_deserialize(\n\u001b[1;32m    268\u001b[0m     json_string,\n\u001b[1;32m    269\u001b[0m     module_objects\u001b[39m=\u001b[39mLOCAL\u001b[39m.\u001b[39mALL_OBJECTS,\n\u001b[1;32m    270\u001b[0m     custom_objects\u001b[39m=\u001b[39mcustom_objects,\n\u001b[1;32m    271\u001b[0m )\n\u001b[0;32m--> 272\u001b[0m \u001b[39mreturn\u001b[39;00m deserialize(config, custom_objects)\n",
      "File \u001b[0;32m~/miniconda3/envs/hack2023/lib/python3.9/site-packages/keras/layers/serialization.py:249\u001b[0m, in \u001b[0;36mdeserialize\u001b[0;34m(config, custom_objects)\u001b[0m\n\u001b[1;32m    212\u001b[0m \u001b[39m\u001b[39m\u001b[39m\"\"\"Instantiates a layer from a config dictionary.\u001b[39;00m\n\u001b[1;32m    213\u001b[0m \n\u001b[1;32m    214\u001b[0m \u001b[39mArgs:\u001b[39;00m\n\u001b[0;32m   (...)\u001b[0m\n\u001b[1;32m    246\u001b[0m \u001b[39m```\u001b[39;00m\n\u001b[1;32m    247\u001b[0m \u001b[39m\"\"\"\u001b[39;00m\n\u001b[1;32m    248\u001b[0m populate_deserializable_objects()\n\u001b[0;32m--> 249\u001b[0m \u001b[39mreturn\u001b[39;00m generic_utils\u001b[39m.\u001b[39;49mdeserialize_keras_object(\n\u001b[1;32m    250\u001b[0m     config,\n\u001b[1;32m    251\u001b[0m     module_objects\u001b[39m=\u001b[39;49mLOCAL\u001b[39m.\u001b[39;49mALL_OBJECTS,\n\u001b[1;32m    252\u001b[0m     custom_objects\u001b[39m=\u001b[39;49mcustom_objects,\n\u001b[1;32m    253\u001b[0m     printable_module_name\u001b[39m=\u001b[39;49m\u001b[39m\"\u001b[39;49m\u001b[39mlayer\u001b[39;49m\u001b[39m\"\u001b[39;49m,\n\u001b[1;32m    254\u001b[0m )\n",
      "File \u001b[0;32m~/miniconda3/envs/hack2023/lib/python3.9/site-packages/keras/utils/generic_utils.py:718\u001b[0m, in \u001b[0;36mdeserialize_keras_object\u001b[0;34m(identifier, module_objects, custom_objects, printable_module_name)\u001b[0m\n\u001b[1;32m    715\u001b[0m \u001b[39mif\u001b[39;00m \u001b[39misinstance\u001b[39m(identifier, \u001b[39mdict\u001b[39m):\n\u001b[1;32m    716\u001b[0m     \u001b[39m# In this case we are dealing with a Keras config dictionary.\u001b[39;00m\n\u001b[1;32m    717\u001b[0m     config \u001b[39m=\u001b[39m identifier\n\u001b[0;32m--> 718\u001b[0m     (\u001b[39mcls\u001b[39m, cls_config) \u001b[39m=\u001b[39m class_and_config_for_serialized_keras_object(\n\u001b[1;32m    719\u001b[0m         config, module_objects, custom_objects, printable_module_name\n\u001b[1;32m    720\u001b[0m     )\n\u001b[1;32m    722\u001b[0m     \u001b[39m# If this object has already been loaded (i.e. it's shared between\u001b[39;00m\n\u001b[1;32m    723\u001b[0m     \u001b[39m# multiple objects), return the already-loaded object.\u001b[39;00m\n\u001b[1;32m    724\u001b[0m     shared_object_id \u001b[39m=\u001b[39m config\u001b[39m.\u001b[39mget(SHARED_OBJECT_KEY)\n",
      "File \u001b[0;32m~/miniconda3/envs/hack2023/lib/python3.9/site-packages/keras/utils/generic_utils.py:597\u001b[0m, in \u001b[0;36mclass_and_config_for_serialized_keras_object\u001b[0;34m(config, module_objects, custom_objects, printable_module_name)\u001b[0m\n\u001b[1;32m    591\u001b[0m \u001b[39m\u001b[39m\u001b[39m\"\"\"Returns the class name and config for a serialized keras object.\"\"\"\u001b[39;00m\n\u001b[1;32m    592\u001b[0m \u001b[39mif\u001b[39;00m (\n\u001b[1;32m    593\u001b[0m     \u001b[39mnot\u001b[39;00m \u001b[39misinstance\u001b[39m(config, \u001b[39mdict\u001b[39m)\n\u001b[1;32m    594\u001b[0m     \u001b[39mor\u001b[39;00m \u001b[39m\"\u001b[39m\u001b[39mclass_name\u001b[39m\u001b[39m\"\u001b[39m \u001b[39mnot\u001b[39;00m \u001b[39min\u001b[39;00m config\n\u001b[1;32m    595\u001b[0m     \u001b[39mor\u001b[39;00m \u001b[39m\"\u001b[39m\u001b[39mconfig\u001b[39m\u001b[39m\"\u001b[39m \u001b[39mnot\u001b[39;00m \u001b[39min\u001b[39;00m config\n\u001b[1;32m    596\u001b[0m ):\n\u001b[0;32m--> 597\u001b[0m     \u001b[39mraise\u001b[39;00m \u001b[39mValueError\u001b[39;00m(\n\u001b[1;32m    598\u001b[0m         \u001b[39mf\u001b[39m\u001b[39m\"\u001b[39m\u001b[39mImproper config format for \u001b[39m\u001b[39m{\u001b[39;00mconfig\u001b[39m}\u001b[39;00m\u001b[39m. \u001b[39m\u001b[39m\"\u001b[39m\n\u001b[1;32m    599\u001b[0m         \u001b[39m\"\u001b[39m\u001b[39mExpecting python dict contains `class_name` and `config` as keys\u001b[39m\u001b[39m\"\u001b[39m\n\u001b[1;32m    600\u001b[0m     )\n\u001b[1;32m    602\u001b[0m class_name \u001b[39m=\u001b[39m config[\u001b[39m\"\u001b[39m\u001b[39mclass_name\u001b[39m\u001b[39m\"\u001b[39m]\n\u001b[1;32m    603\u001b[0m \u001b[39mcls\u001b[39m \u001b[39m=\u001b[39m get_registered_object(class_name, custom_objects, module_objects)\n",
      "\u001b[0;31mValueError\u001b[0m: Improper config format for {'_name_or_path': 'distilbert-base-cased', 'activation': 'gelu', 'architectures': ['DistilBertForMaskedLM'], 'attention_dropout': 0.1, 'dim': 768, 'dropout': 0.1, 'hidden_dim': 3072, 'initializer_range': 0.02, 'max_position_embeddings': 512, 'model_type': 'distilbert', 'n_heads': 12, 'n_layers': 6, 'output_past': True, 'pad_token_id': 0, 'qa_dropout': 0.1, 'seq_classif_dropout': 0.2, 'sinusoidal_pos_embds': False, 'tie_weights_': True, 'transformers_version': '4.24.0', 'vocab_size': 28996}. Expecting python dict contains `class_name` and `config` as keys"
     ]
    }
   ],
   "source": [
    "from tensorflow.keras.models import Sequential, model_from_json\n",
    "from tensorflow.keras.layers import Dense\n",
    "import numpy\n",
    "import os\n",
    "\n",
    " \n",
    "from keras.models import load_model\n",
    "model = load_model('model.h5')"
   ]
  },
  {
   "cell_type": "code",
   "execution_count": null,
   "metadata": {},
   "outputs": [],
   "source": [
    "new_question = \"\"\"Hello chefs, I would like to get started with some easy recipes. Any suggestions?\"\"\"\n",
    "recipe_model = SentenceTransformer('bert-base-nli-stsb-mean-tokens-recipes')\n",
    "encoded_question = recipe_model.encode([new_question])"
   ]
  },
  {
   "cell_type": "code",
   "execution_count": null,
   "metadata": {},
   "outputs": [],
   "source": [
    "# scipy==1.5.4, numpy==1.19.5\n",
    "from scipy import spatial\n",
    "import numpy as np\n",
    "\n",
    "q_a_mappings = {'Question Embedding': [[ ], [ ], [ ], …], 'Question Text': ['What should I cook after work?', 'What are some one-pot meals I can cook?', ...], 'Corresponding Answer': ['For easy one-pot or weeknight recipes, please access this [link].', 'For easy one-pot or weeknight recipes, please access this [link].', ...]}\n",
    "\n",
    "question_embeddings = q_a_mappings['Question Embedding']\n",
    "question_texts = q_a_mappings['Question Text']\n",
    "answer_mappings = q_a_mappings['Corresponding Answer']\n",
    "\n",
    "distances = spatial.distance.cdist(np.array(encoded_question), question_embeddings, 'cosine')[0]\n",
    "results = zip(range(len(distances)), distances)\n",
    "results = sorted(results, key=lambda x: x[1])\n",
    "\n",
    "for idx, distance in results[0:2]: # just getting top 2\n",
    "    print(f\"\\nMatch {idx+1}:\")\n",
    "    print(question_texts[idx])\n",
    "    print(answer_mappings[idx])"
   ]
  }
 ],
 "metadata": {
  "kernelspec": {
   "display_name": "tutorials",
   "language": "python",
   "name": "python3"
  },
  "language_info": {
   "codemirror_mode": {
    "name": "ipython",
    "version": 3
   },
   "file_extension": ".py",
   "mimetype": "text/x-python",
   "name": "python",
   "nbconvert_exporter": "python",
   "pygments_lexer": "ipython3",
   "version": "3.9.15"
  },
  "orig_nbformat": 4
 },
 "nbformat": 4,
 "nbformat_minor": 2
}
